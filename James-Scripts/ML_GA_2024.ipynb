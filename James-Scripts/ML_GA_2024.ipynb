from tensorflow.keras.preprocessing.image import ImageDataGenerator
from keras.applications.vgg16 import VGG16
from keras.applications.vgg16 import preprocess_input
from keras.preprocessing.image import load_img
from keras.preprocessing.image import img_to_array
from keras import Sequential
from keras.layers import Flatten, Dense
import matplotlib.pyplot as plt
import os
import csv
from keras.utils import to_categorical
import kagglehub
import shutil

from google.colab import drive
drive.mount('/content/gdrive')

# Download latest version
path = kagglehub.dataset_download("meowmeowmeowmeowmeow/gtsrb-german-traffic-sign")

print("Path to dataset files:", path)


shutil.rmtree(os.path.join('/root/.cache/kagglehub/datasets/meowmeowmeowmeowmeow/gtsrb-german-traffic-sign/versions/1/Train',str(11)))

train_datagen = ImageDataGenerator(preprocessing_function=preprocess_input)
train_data_dir = '/root/.cache/kagglehub/datasets/meowmeowmeowmeowmeow/gtsrb-german-traffic-sign/versions/1/Train/'
train_generator = train_datagen.flow_from_directory(train_data_dir,
                                                    target_size=(224, 224),
                                                    color_mode='rgb',
                                                    batch_size=32,
                                                    class_mode='categorical',
                                                    shuffle=True)

model = Sequential()
model.add(VGG16(weights='imagenet',include_top=False,input_shape=(224, 224, 3)))
model.add(Flatten())
model.add(Dense(1024, activation='relu'))
model.add(Dense(11, activation='softmax'))

model.compile(optimizer='Adam',loss='categorical_crossentropy',metrics=['accuracy'])

history = model.fit(train_generator,
            steps_per_epoch=32,
            epochs=16)

model.summary()

model.save_weights('/content/gdrive/My Drive/ML_GA_2024_11.weights.h5', overwrite=True)

# Test directory presorted using sort_test.py script before uploading to Google Drive

test_datagen = ImageDataGenerator(preprocessing_function=preprocess_input)
test_data_dir = '/content/drive/MyDrive/ML_GA_2024/Test'
test_generator = test_datagen.flow_from_directory(test_data_dir,
                                                    target_size=(224, 224),
                                                    color_mode='rgb')

test_loss, test_acc = model.evaluate(test_generator)

print('Test accuracy:', test_acc)
print('Test loss:', test_loss)