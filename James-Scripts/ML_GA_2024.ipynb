{
  "cells": [
    {
      "cell_type": "code",
      "execution_count": null,
      "metadata": {
        "id": "pZSPGINddYCo"
      },
      "outputs": [],
      "source": [
        "from tensorflow.keras.preprocessing.image import ImageDataGenerator\n",
        "from keras.applications.vgg16 import VGG16\n",
        "from keras.applications.vgg16 import preprocess_input\n",
        "from keras.preprocessing.image import load_img\n",
        "from keras.preprocessing.image import img_to_array\n",
        "from keras import Sequential\n",
        "from keras.layers import Flatten, Dense\n",
        "import matplotlib.pyplot as plt\n",
        "import os\n",
        "import csv\n",
        "from keras.utils import to_categorical\n",
        "import kagglehub\n",
        "import shutil\n",
        "\n",
        "from google.colab import drive\n",
        "drive.mount('/content/gdrive')\n",
        "\n",
        "# Download latest version\n",
        "path = kagglehub.dataset_download(\"meowmeowmeowmeowmeow/gtsrb-german-traffic-sign\")\n",
        "\n",
        "print(\"Path to dataset files:\", path)\n",
        "\n",
        "\n",
        "shutil.rmtree(os.path.join('/root/.cache/kagglehub/datasets/meowmeowmeowmeowmeow/gtsrb-german-traffic-sign/versions/1/Train',str(11)))\n",
        "\n",
        "train_datagen = ImageDataGenerator(preprocessing_function=preprocess_input)\n",
        "train_data_dir = '/root/.cache/kagglehub/datasets/meowmeowmeowmeowmeow/gtsrb-german-traffic-sign/versions/1/Train/'\n",
        "train_generator = train_datagen.flow_from_directory(train_data_dir,\n",
        "                                                    target_size=(224, 224),\n",
        "                                                    color_mode='rgb',\n",
        "                                                    batch_size=32,\n",
        "                                                    class_mode='categorical',\n",
        "                                                    shuffle=True)\n",
        "\n",
        "model = Sequential()\n",
        "model.add(VGG16(weights='imagenet',include_top=False,input_shape=(224, 224, 3)))\n",
        "model.add(Flatten())\n",
        "model.add(Dense(1024, activation='relu'))\n",
        "model.add(Dense(11, activation='softmax'))\n",
        "\n",
        "model.compile(optimizer='Adam',loss='categorical_crossentropy',metrics=['accuracy'])\n",
        "\n",
        "history = model.fit(train_generator,\n",
        "            steps_per_epoch=32,\n",
        "            epochs=16)\n",
        "\n",
        "model.summary()\n",
        "\n",
        "model.save_weights('/content/gdrive/My Drive/ML_GA_2024_11.weights.h5', overwrite=True)\n",
        "\n",
        "# Test directory presorted using sort_test.py script before uploading to Google Drive\n",
        "\n",
        "test_datagen = ImageDataGenerator(preprocessing_function=preprocess_input)\n",
        "test_data_dir = '/content/drive/MyDrive/ML_GA_2024/Test'\n",
        "test_generator = test_datagen.flow_from_directory(test_data_dir,\n",
        "                                                    target_size=(224, 224),\n",
        "                                                    color_mode='rgb')\n",
        "\n",
        "test_loss, test_acc = model.evaluate(test_generator)\n",
        "\n",
        "print('Test accuracy:', test_acc)\n",
        "print('Test loss:', test_loss)"
      ]
    }
  ],
  "metadata": {
    "colab": {
      "provenance": [],
      "gpuType": "T4"
    },
    "kernelspec": {
      "display_name": "Python 3",
      "name": "python3"
    },
    "language_info": {
      "name": "python"
    },
    "accelerator": "GPU"
  },
  "nbformat": 4,
  "nbformat_minor": 0
}